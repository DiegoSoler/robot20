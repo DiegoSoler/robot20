{
 "cells": [
  {
   "cell_type": "markdown",
   "metadata": {},
   "source": [
    "# Bug da função identifica cor em `visao_module.py`\n",
    "\n",
    "## Teste com a função original\n",
    "Inicialmente, fazemos o teste com a função original\n"
   ]
  },
  {
   "cell_type": "code",
   "execution_count": 14,
   "metadata": {},
   "outputs": [],
   "source": [
    "import cv2\n",
    "import numpy as np\n",
    "\n",
    "def identifica_cor(frame):\n",
    "    '''\n",
    "    Segmenta o maior objeto cuja cor é parecida com cor_h (HUE da cor, no espaço HSV).\n",
    "    '''\n",
    "\n",
    "    # No OpenCV, o canal H vai de 0 até 179, logo cores similares ao\n",
    "    # vermelho puro (H=0) estão entre H=-8 e H=8.\n",
    "    # Precisamos dividir o inRange em duas partes para fazer a detecção\n",
    "    # do vermelho:\n",
    "    frame_hsv = cv2.cvtColor(frame, cv2.COLOR_BGR2HSV)\n",
    "\n",
    "    cor_menor = np.array([80, 50, 50])\n",
    "    cor_maior = np.array([120, 255, 255])\n",
    "    segmentado_cor = cv2.inRange(frame_hsv, cor_menor, cor_maior)\n",
    "\n",
    "    #cor_menor = np.array([85, 50, 50])\n",
    "    #cor_maior = np.array([115, 255, 255])\n",
    "    #segmentado_cor += cv2.inRange(frame_hsv, cor_menor, cor_maior)\n",
    "\n",
    "    # Note que a notacão do numpy encara as imagens como matriz, portanto o enderecamento é\n",
    "    # linha, coluna ou (y,x)\n",
    "    # Por isso na hora de montar a tupla com o centro precisamos inverter, porque\n",
    "    centro = (frame.shape[1]//2, frame.shape[0]//2)\n",
    "\n",
    "\n",
    "    def cross(img_rgb, point, color, width,length):\n",
    "        cv2.line(img_rgb, (point[0] - length/2, point[1]),  (point[0] + length/2, point[1]), color ,width, length)\n",
    "        cv2.line(img_rgb, (point[0], point[1] - length/2), (point[0], point[1] + length/2),color ,width, length)\n",
    "\n",
    "\n",
    "\n",
    "    # A operação MORPH_CLOSE fecha todos os buracos na máscara menores\n",
    "    # que um quadrado 7x7. É muito útil para juntar vários\n",
    "    # pequenos contornos muito próximos em um só.\n",
    "    segmentado_cor = cv2.morphologyEx(segmentado_cor,cv2.MORPH_CLOSE,np.ones((7, 7)))\n",
    "\n",
    "    # Encontramos os contornos na máscara e selecionamos o de maior área\n",
    "    #contornos, arvore = cv2.findContours(segmentado_cor.copy(), cv2.RETR_TREE, cv2.CHAIN_APPROX_SIMPLE)\n",
    "    contornos, arvore = cv2.findContours(segmentado_cor.copy(), cv2.RETR_TREE, cv2.CHAIN_APPROX_SIMPLE)\n",
    "\n",
    "    maior_contorno = None\n",
    "    maior_contorno_area = 0\n",
    "\n",
    "    for cnt in contornos:\n",
    "        area = cv2.contourArea(cnt)\n",
    "        if area > maior_contorno_area:\n",
    "            maior_contorno = cnt\n",
    "            maior_contorno_area = area\n",
    "\n",
    "    # Encontramos o centro do contorno fazendo a média de todos seus pontos.\n",
    "    if not maior_contorno is None :\n",
    "        cv2.drawContours(frame, [maior_contorno], -1, [0, 0, 255], 5)\n",
    "        maior_contorno = np.reshape(maior_contorno, (maior_contorno.shape[0], 2))\n",
    "        media = maior_contorno.mean(axis=0)\n",
    "        media = media.astype(np.int32)\n",
    "        cv2.circle(frame, (media[0], media[1]), 5, [0, 255, 0])\n",
    "        cross(frame, centro, [255,0,0], 1, 17)\n",
    "    else:\n",
    "        media = (0, 0)\n",
    "\n",
    "    # Representa a area e o centro do maior contorno no frame\n",
    "    font = cv2.FONT_HERSHEY_COMPLEX_SMALL\n",
    "    cv2.putText(frame,\"{:d} {:d}\".format(*media),(20,100), 1, 4,(255,255,255),2,cv2.LINE_AA)\n",
    "    cv2.putText(frame,\"{:0.1f}\".format(maior_contorno_area),(20,50), 1, 4,(255,255,255),2,cv2.LINE_AA)\n",
    "\n",
    "    # was: return centro, result_frame, result_tuples\n",
    "    return centro, media, area, frame"
   ]
  },
  {
   "cell_type": "markdown",
   "metadata": {},
   "source": [
    "### Imagem 1: marcador pequeno está dentro do contorno do creeper azul\n",
    "\n",
    "![](creeper_azul_marcador_in.png)"
   ]
  },
  {
   "cell_type": "code",
   "execution_count": 15,
   "metadata": {},
   "outputs": [
    {
     "output_type": "display_data",
     "data": {
      "image/png": "[encoded data removed]",
      "text/plain": "<matplotlib.figure.Figure at 0x7f451f5631d0>"
     },
     "metadata": {}
    },
    {
     "output_type": "stream",
     "name": "stdout",
     "text": "Area:  383.5\n"
    }
   ],
   "source": [
    "img_marcador_in = cv2.imread(\"creeper_azul_marcador_in.png\")\n",
    "\n",
    "centro, media, area, frame = identifica_cor(img_marcador_in)\n",
    "\n",
    "from __future__ import print_function\n",
    "%matplotlib inline\n",
    "import matplotlib.pyplot as plt\n",
    "\n",
    "plt.imshow(frame[:,:,::-1])\n",
    "plt.xticks([]); plt.yticks([])\n",
    "plt.show()\n",
    "\n",
    "print(\"Area: \", area)\n"
   ]
  },
  {
   "cell_type": "markdown",
   "metadata": {},
   "source": [
    "### Imagem 2: marcador pequeno está fora do contorno do creeper azul\n",
    "\n",
    "![](creeper_azul_marcador_out.png)"
   ]
  },
  {
   "cell_type": "code",
   "execution_count": 17,
   "metadata": {},
   "outputs": [
    {
     "output_type": "display_data",
     "data": {
      "image/png": "[encoded data removed]",
      "text/plain": "<matplotlib.figure.Figure at 0x7f451f70fe90>"
     },
     "metadata": {}
    },
    {
     "output_type": "stream",
     "name": "stdout",
     "text": "Area:  7490.0\n"
    }
   ],
   "source": [
    "img_marcador_out = cv2.imread(\"creeper_azul_marcador_out.png\")\n",
    "\n",
    "centro, media, area, frame = identifica_cor(img_marcador_out)\n",
    "\n",
    "plt.imshow(frame[:,:,::-1])\n",
    "plt.xticks([]); plt.yticks([])\n",
    "plt.show()\n",
    "\n",
    "print(\"Area: \", area)\n"
   ]
  },
  {
   "cell_type": "code",
   "execution_count": null,
   "metadata": {},
   "outputs": [],
   "source": []
  }
 ],
 "metadata": {
  "language_info": {
   "codemirror_mode": {
    "name": "ipython",
    "version": 2
   },
   "file_extension": ".py",
   "mimetype": "text/x-python",
   "name": "python",
   "nbconvert_exporter": "python",
   "pygments_lexer": "ipython2",
   "version": "2.7.17-final"
  },
  "orig_nbformat": 2,
  "kernelspec": {
   "name": "python271764bita7620562d5304f68a8300b5bf6d8ab9d",
   "display_name": "Python 2.7.17 64-bit"
  }
 },
 "nbformat": 4,
 "nbformat_minor": 2
}